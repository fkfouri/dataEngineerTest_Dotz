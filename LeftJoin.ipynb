{
 "cells": [
  {
   "cell_type": "markdown",
   "metadata": {},
   "source": [
    "https://nl.devoteam.com/en/blog-post/implementing-left-join-google-dataflow-apache-beam/"
   ]
  },
  {
   "cell_type": "code",
   "execution_count": 1,
   "metadata": {},
   "outputs": [],
   "source": [
    "import csv\n",
    "import io\n",
    "import pandas as pd\n",
    "import logging\n",
    "\n",
    "import apache_beam as beam\n",
    "from apache_beam.runners.interactive import interactive_beam as ib\n",
    "from apache_beam.runners.interactive.interactive_runner import InteractiveRunner"
   ]
  },
  {
   "cell_type": "code",
   "execution_count": 5,
   "metadata": {},
   "outputs": [],
   "source": [
    "class LeftJoin(beam.PTransform):\n",
    "    \"\"\"This PTransform performs a left join given source_pipeline_name, source_data,\n",
    "     join_pipeline_name, join_data, common_key constructors\"\"\"\n",
    "\n",
    "    def __init__(self, source_pipeline_name, source_data, join_pipeline_name, join_data, common_key):\n",
    "        self.join_pipeline_name = join_pipeline_name\n",
    "        self.source_data = source_data\n",
    "        self.source_pipeline_name = source_pipeline_name\n",
    "        self.join_data = join_data\n",
    "        self.common_key = common_key\n",
    "\n",
    "    def expand(self, pcolls):\n",
    "        def _format_as_common_key_tuple(data_dict, common_key):\n",
    "            return data_dict[common_key], data_dict\n",
    "\n",
    "        \"\"\"This part here below starts with a python dictionary comprehension in case you \n",
    "        get lost in what is happening :-)\"\"\"\n",
    "        return ({pipeline_name: pcoll | 'Convert to ({0}, object) for {1}'.format(self.common_key, pipeline_name)\n",
    "                                      >> beam.Map(_format_as_common_key_tuple, self.common_key)\n",
    "                 for (pipeline_name, pcoll) in pcolls.items()}\n",
    "                    | 'CoGroupByKey {0}'.format(pcolls.keys()) >> beam.CoGroupByKey()\n",
    "                     \n",
    "                    | 'Unnest Cogrouped' >> beam.ParDo(UnnestCoGrouped(),\n",
    "                                                       self.source_pipeline_name,\n",
    "                                                   self.join_pipeline_name)\n",
    "                )"
   ]
  },
  {
   "cell_type": "code",
   "execution_count": 6,
   "metadata": {},
   "outputs": [],
   "source": [
    "class UnnestCoGrouped(beam.DoFn):\n",
    "    \"\"\"This DoFn class unnests the CogroupBykey output and emits \"\"\"\n",
    "\n",
    "    def process(self, input_element, source_pipeline_name, join_pipeline_name):\n",
    "        group_key, grouped_dict = input_element\n",
    "        join_dictionary = grouped_dict[join_pipeline_name]\n",
    "        source_dictionaries = grouped_dict[source_pipeline_name]\n",
    "        for source_dictionary in source_dictionaries:\n",
    "            try:\n",
    "                source_dictionary.update(join_dictionary[0])\n",
    "                yield source_dictionary\n",
    "            except IndexError:  # found no join_dictionary\n",
    "                yield source_dictionary"
   ]
  },
  {
   "cell_type": "code",
   "execution_count": 7,
   "metadata": {},
   "outputs": [],
   "source": [
    "class LogContents(beam.DoFn):\n",
    "    \"\"\"This DoFn class logs the content of that which it receives \"\"\"\n",
    "\n",
    "    def process(self, input_element):\n",
    "        logging.info(\"Contents: {}\".format(input_element))\n",
    "        logging.info(\"Contents type: {}\".format(type(input_element)))\n",
    "        logging.info(\"Contents Access input_element['Country']: {}\".format(input_element['Country']))\n",
    "        return"
   ]
  },
  {
   "cell_type": "code",
   "execution_count": 2,
   "metadata": {},
   "outputs": [],
   "source": [
    "p = beam.Pipeline()"
   ]
  },
  {
   "cell_type": "code",
   "execution_count": 3,
   "metadata": {},
   "outputs": [
    {
     "data": {
      "application/javascript": [
       "\n",
       "        if (typeof window.interactive_beam_jquery == 'undefined') {\n",
       "          var jqueryScript = document.createElement('script');\n",
       "          jqueryScript.src = 'https://code.jquery.com/jquery-3.4.1.slim.min.js';\n",
       "          jqueryScript.type = 'text/javascript';\n",
       "          jqueryScript.onload = function() {\n",
       "            var datatableScript = document.createElement('script');\n",
       "            datatableScript.src = 'https://cdn.datatables.net/1.10.20/js/jquery.dataTables.min.js';\n",
       "            datatableScript.type = 'text/javascript';\n",
       "            datatableScript.onload = function() {\n",
       "              window.interactive_beam_jquery = jQuery.noConflict(true);\n",
       "              window.interactive_beam_jquery(document).ready(function($){\n",
       "                \n",
       "              });\n",
       "            }\n",
       "            document.head.appendChild(datatableScript);\n",
       "          };\n",
       "          document.head.appendChild(jqueryScript);\n",
       "        } else {\n",
       "          window.interactive_beam_jquery(document).ready(function($){\n",
       "            \n",
       "          });\n",
       "        }"
      ]
     },
     "metadata": {},
     "output_type": "display_data"
    },
    {
     "data": {
      "application/javascript": [
       "\n",
       "        var import_html = () => {\n",
       "          ['https://raw.githubusercontent.com/PAIR-code/facets/1.0.0/facets-dist/facets-jupyter.html'].forEach(href => {\n",
       "            var link = document.createElement('link');\n",
       "            link.rel = 'import'\n",
       "            link.href = href;\n",
       "            document.head.appendChild(link);\n",
       "          });\n",
       "        }\n",
       "        if ('import' in document.createElement('link')) {\n",
       "          import_html();\n",
       "        } else {\n",
       "          var webcomponentScript = document.createElement('script');\n",
       "          webcomponentScript.src = 'https://cdnjs.cloudflare.com/ajax/libs/webcomponentsjs/1.3.3/webcomponents-lite.js';\n",
       "          webcomponentScript.type = 'text/javascript';\n",
       "          webcomponentScript.onload = function(){\n",
       "            import_html();\n",
       "          };\n",
       "          document.head.appendChild(webcomponentScript);\n",
       "        }"
      ]
     },
     "metadata": {},
     "output_type": "display_data"
    }
   ],
   "source": [
    "source_pipeline_name = 'source_data'\n",
    "source_data = p | 'Create source data' >> beam.Create(\n",
    "        [{'Country': 'The Netherlands', 'Year': '2011',\n",
    "          'Cheese consumption per capita per year (kg)': '19.4'},\n",
    "         {'Country': 'The Netherlands', 'Year': '2012',\n",
    "          'Cheese consumption per capita per year (kg)': '20.1'},\n",
    "         {'Country': 'France', 'Year': '2011',\n",
    "          'Cheese consumption per'\n",
    "          ' capita per year (kg)': '26.3'},\n",
    "         {'Country': 'China', 'Year': '2011',\n",
    "          'Cheese consumption per capita per year (kg)': '0.1'}\n",
    "         ])"
   ]
  },
  {
   "cell_type": "code",
   "execution_count": 4,
   "metadata": {},
   "outputs": [],
   "source": [
    "join_pipeline_name = 'join_data'\n",
    "join_data = p | 'Create join data' >> beam.Create(\n",
    "        [{'Country': 'The Netherl'\n",
    "                     'ands',\n",
    "          'Continent': 'Europe'},\n",
    "         {'Country': 'China', 'Co'\n",
    "                              'ntinent': 'Asia'},\n",
    "         {'Country': 'USA', 'Conti'\n",
    "                            'nent': 'North America'},\n",
    "         {'Country': 'Brazil', 'Con'\n",
    "                               'tinent': 'South America'}\n",
    "         ])"
   ]
  },
  {
   "cell_type": "code",
   "execution_count": 14,
   "metadata": {},
   "outputs": [
    {
     "name": "stderr",
     "output_type": "stream",
     "text": [
      "ERROR:apache_beam.io.filebasedsink:Exception in _rename_batch. src: E:\\Projetos\\Jobs\\DataEngineer\\Dotz\\outputs\\beam-temp-part-6bb6b2ec113f11eb918bcc2f71ff565d\\4fcada0c-e464-4b4f-a336-46290f37ffee.part, dst: outputs/part-00000-of-00001, err: [WinError 183] Cannot create a file when that file already exists: 'E:\\\\Projetos\\\\Jobs\\\\DataEngineer\\\\Dotz\\\\outputs\\\\beam-temp-part-6bb6b2ec113f11eb918bcc2f71ff565d\\\\4fcada0c-e464-4b4f-a336-46290f37ffee.part' -> 'outputs/part-00000-of-00001'\n"
     ]
    },
    {
     "ename": "Exception",
     "evalue": "Encountered exceptions in finalize_write: [OSError(FileExistsError(17, 'Cannot create a file when that file already exists'))] [while running '[13]: Write/Write/WriteImpl/FinalizeWrite']",
     "output_type": "error",
     "traceback": [
      "\u001b[1;31m---------------------------------------------------------------------------\u001b[0m",
      "\u001b[1;31mException\u001b[0m                                 Traceback (most recent call last)",
      "\u001b[1;32me:\\projetos\\jobs\\dataengineer\\dotz\\env\\lib\\site-packages\\apache_beam\\runners\\common.cp37-win_amd64.pyd\u001b[0m in \u001b[0;36mapache_beam.runners.common.DoFnRunner.process\u001b[1;34m()\u001b[0m\n",
      "\u001b[1;32me:\\projetos\\jobs\\dataengineer\\dotz\\env\\lib\\site-packages\\apache_beam\\runners\\common.cp37-win_amd64.pyd\u001b[0m in \u001b[0;36mapache_beam.runners.common.PerWindowInvoker.invoke_process\u001b[1;34m()\u001b[0m\n",
      "\u001b[1;32me:\\projetos\\jobs\\dataengineer\\dotz\\env\\lib\\site-packages\\apache_beam\\runners\\common.cp37-win_amd64.pyd\u001b[0m in \u001b[0;36mapache_beam.runners.common.PerWindowInvoker._invoke_process_per_window\u001b[1;34m()\u001b[0m\n",
      "\u001b[1;32me:\\projetos\\jobs\\dataengineer\\dotz\\env\\lib\\site-packages\\apache_beam\\runners\\common.cp37-win_amd64.pyd\u001b[0m in \u001b[0;36mapache_beam.runners.common._OutputProcessor.process_outputs\u001b[1;34m()\u001b[0m\n",
      "\u001b[1;32me:\\projetos\\jobs\\dataengineer\\dotz\\env\\lib\\site-packages\\apache_beam\\io\\iobase.py\u001b[0m in \u001b[0;36m<genexpr>\u001b[1;34m(.0)\u001b[0m\n\u001b[0;32m   1108\u001b[0m     return (\n\u001b[1;32m-> 1109\u001b[1;33m         window.TimestampedValue(v, timestamp.MAX_TIMESTAMP) for v in outputs)\n\u001b[0m\u001b[0;32m   1110\u001b[0m \u001b[1;33m\u001b[0m\u001b[0m\n",
      "\u001b[1;32me:\\projetos\\jobs\\dataengineer\\dotz\\env\\lib\\site-packages\\apache_beam\\io\\filebasedsink.py\u001b[0m in \u001b[0;36mfinalize_write\u001b[1;34m(self, init_result, writer_results, unused_pre_finalize_results)\u001b[0m\n\u001b[0;32m    346\u001b[0m         raise Exception(\n\u001b[1;32m--> 347\u001b[1;33m             'Encountered exceptions in finalize_write: %s' % all_exceptions)\n\u001b[0m\u001b[0;32m    348\u001b[0m \u001b[1;33m\u001b[0m\u001b[0m\n",
      "\u001b[1;31mException\u001b[0m: Encountered exceptions in finalize_write: [OSError(FileExistsError(17, 'Cannot create a file when that file already exists'))]",
      "\nDuring handling of the above exception, another exception occurred:\n",
      "\u001b[1;31mException\u001b[0m                                 Traceback (most recent call last)",
      "\u001b[1;32m<ipython-input-14-50b5dbd3bf8f>\u001b[0m in \u001b[0;36m<module>\u001b[1;34m\u001b[0m\n\u001b[0;32m     12\u001b[0m                  )\n\u001b[0;32m     13\u001b[0m \u001b[1;33m\u001b[0m\u001b[0m\n\u001b[1;32m---> 14\u001b[1;33m \u001b[0mresult\u001b[0m \u001b[1;33m=\u001b[0m \u001b[0mp\u001b[0m\u001b[1;33m.\u001b[0m\u001b[0mrun\u001b[0m\u001b[1;33m(\u001b[0m\u001b[1;33m)\u001b[0m\u001b[1;33m\u001b[0m\u001b[1;33m\u001b[0m\u001b[0m\n\u001b[0m\u001b[0;32m     15\u001b[0m \u001b[0mresult\u001b[0m\u001b[1;33m.\u001b[0m\u001b[0mwait_until_finish\u001b[0m\u001b[1;33m(\u001b[0m\u001b[1;33m)\u001b[0m\u001b[1;33m\u001b[0m\u001b[1;33m\u001b[0m\u001b[0m\n",
      "\u001b[1;32me:\\projetos\\jobs\\dataengineer\\dotz\\env\\lib\\site-packages\\apache_beam\\pipeline.py\u001b[0m in \u001b[0;36mrun\u001b[1;34m(self, test_runner_api)\u001b[0m\n\u001b[0;32m    532\u001b[0m         \u001b[1;32mfinally\u001b[0m\u001b[1;33m:\u001b[0m\u001b[1;33m\u001b[0m\u001b[1;33m\u001b[0m\u001b[0m\n\u001b[0;32m    533\u001b[0m           \u001b[0mshutil\u001b[0m\u001b[1;33m.\u001b[0m\u001b[0mrmtree\u001b[0m\u001b[1;33m(\u001b[0m\u001b[0mtmpdir\u001b[0m\u001b[1;33m)\u001b[0m\u001b[1;33m\u001b[0m\u001b[1;33m\u001b[0m\u001b[0m\n\u001b[1;32m--> 534\u001b[1;33m       \u001b[1;32mreturn\u001b[0m \u001b[0mself\u001b[0m\u001b[1;33m.\u001b[0m\u001b[0mrunner\u001b[0m\u001b[1;33m.\u001b[0m\u001b[0mrun_pipeline\u001b[0m\u001b[1;33m(\u001b[0m\u001b[0mself\u001b[0m\u001b[1;33m,\u001b[0m \u001b[0mself\u001b[0m\u001b[1;33m.\u001b[0m\u001b[0m_options\u001b[0m\u001b[1;33m)\u001b[0m\u001b[1;33m\u001b[0m\u001b[1;33m\u001b[0m\u001b[0m\n\u001b[0m\u001b[0;32m    535\u001b[0m     \u001b[1;32mfinally\u001b[0m\u001b[1;33m:\u001b[0m\u001b[1;33m\u001b[0m\u001b[1;33m\u001b[0m\u001b[0m\n\u001b[0;32m    536\u001b[0m       \u001b[0mshutil\u001b[0m\u001b[1;33m.\u001b[0m\u001b[0mrmtree\u001b[0m\u001b[1;33m(\u001b[0m\u001b[0mself\u001b[0m\u001b[1;33m.\u001b[0m\u001b[0mlocal_tempdir\u001b[0m\u001b[1;33m,\u001b[0m \u001b[0mignore_errors\u001b[0m\u001b[1;33m=\u001b[0m\u001b[1;32mTrue\u001b[0m\u001b[1;33m)\u001b[0m\u001b[1;33m\u001b[0m\u001b[1;33m\u001b[0m\u001b[0m\n",
      "\u001b[1;32me:\\projetos\\jobs\\dataengineer\\dotz\\env\\lib\\site-packages\\apache_beam\\runners\\direct\\direct_runner.py\u001b[0m in \u001b[0;36mrun_pipeline\u001b[1;34m(self, pipeline, options)\u001b[0m\n\u001b[0;32m    117\u001b[0m       \u001b[0mrunner\u001b[0m \u001b[1;33m=\u001b[0m \u001b[0mBundleBasedDirectRunner\u001b[0m\u001b[1;33m(\u001b[0m\u001b[1;33m)\u001b[0m\u001b[1;33m\u001b[0m\u001b[1;33m\u001b[0m\u001b[0m\n\u001b[0;32m    118\u001b[0m \u001b[1;33m\u001b[0m\u001b[0m\n\u001b[1;32m--> 119\u001b[1;33m     \u001b[1;32mreturn\u001b[0m \u001b[0mrunner\u001b[0m\u001b[1;33m.\u001b[0m\u001b[0mrun_pipeline\u001b[0m\u001b[1;33m(\u001b[0m\u001b[0mpipeline\u001b[0m\u001b[1;33m,\u001b[0m \u001b[0moptions\u001b[0m\u001b[1;33m)\u001b[0m\u001b[1;33m\u001b[0m\u001b[1;33m\u001b[0m\u001b[0m\n\u001b[0m\u001b[0;32m    120\u001b[0m \u001b[1;33m\u001b[0m\u001b[0m\n\u001b[0;32m    121\u001b[0m \u001b[1;33m\u001b[0m\u001b[0m\n",
      "\u001b[1;32me:\\projetos\\jobs\\dataengineer\\dotz\\env\\lib\\site-packages\\apache_beam\\runners\\portability\\fn_api_runner\\fn_runner.py\u001b[0m in \u001b[0;36mrun_pipeline\u001b[1;34m(self, pipeline, options)\u001b[0m\n\u001b[0;32m    174\u001b[0m \u001b[1;33m\u001b[0m\u001b[0m\n\u001b[0;32m    175\u001b[0m     self._latest_run_result = self.run_via_runner_api(\n\u001b[1;32m--> 176\u001b[1;33m         pipeline.to_runner_api(default_environment=self._default_environment))\n\u001b[0m\u001b[0;32m    177\u001b[0m     \u001b[1;32mreturn\u001b[0m \u001b[0mself\u001b[0m\u001b[1;33m.\u001b[0m\u001b[0m_latest_run_result\u001b[0m\u001b[1;33m\u001b[0m\u001b[1;33m\u001b[0m\u001b[0m\n\u001b[0;32m    178\u001b[0m \u001b[1;33m\u001b[0m\u001b[0m\n",
      "\u001b[1;32me:\\projetos\\jobs\\dataengineer\\dotz\\env\\lib\\site-packages\\apache_beam\\runners\\portability\\fn_api_runner\\fn_runner.py\u001b[0m in \u001b[0;36mrun_via_runner_api\u001b[1;34m(self, pipeline_proto)\u001b[0m\n\u001b[0;32m    184\u001b[0m     \u001b[1;31m# TODO(pabloem, BEAM-7514): Create a watermark manager (that has access to\u001b[0m\u001b[1;33m\u001b[0m\u001b[1;33m\u001b[0m\u001b[1;33m\u001b[0m\u001b[0m\n\u001b[0;32m    185\u001b[0m     \u001b[1;31m#   the teststream (if any), and all the stages).\u001b[0m\u001b[1;33m\u001b[0m\u001b[1;33m\u001b[0m\u001b[1;33m\u001b[0m\u001b[0m\n\u001b[1;32m--> 186\u001b[1;33m     \u001b[1;32mreturn\u001b[0m \u001b[0mself\u001b[0m\u001b[1;33m.\u001b[0m\u001b[0mrun_stages\u001b[0m\u001b[1;33m(\u001b[0m\u001b[0mstage_context\u001b[0m\u001b[1;33m,\u001b[0m \u001b[0mstages\u001b[0m\u001b[1;33m)\u001b[0m\u001b[1;33m\u001b[0m\u001b[1;33m\u001b[0m\u001b[0m\n\u001b[0m\u001b[0;32m    187\u001b[0m \u001b[1;33m\u001b[0m\u001b[0m\n\u001b[0;32m    188\u001b[0m   \u001b[1;33m@\u001b[0m\u001b[0mcontextlib\u001b[0m\u001b[1;33m.\u001b[0m\u001b[0mcontextmanager\u001b[0m\u001b[1;33m\u001b[0m\u001b[1;33m\u001b[0m\u001b[0m\n",
      "\u001b[1;32me:\\projetos\\jobs\\dataengineer\\dotz\\env\\lib\\site-packages\\apache_beam\\runners\\portability\\fn_api_runner\\fn_runner.py\u001b[0m in \u001b[0;36mrun_stages\u001b[1;34m(self, stage_context, stages)\u001b[0m\n\u001b[0;32m    342\u001b[0m           stage_results = self._run_stage(\n\u001b[0;32m    343\u001b[0m               \u001b[0mrunner_execution_context\u001b[0m\u001b[1;33m,\u001b[0m\u001b[1;33m\u001b[0m\u001b[1;33m\u001b[0m\u001b[0m\n\u001b[1;32m--> 344\u001b[1;33m               \u001b[0mbundle_context_manager\u001b[0m\u001b[1;33m,\u001b[0m\u001b[1;33m\u001b[0m\u001b[1;33m\u001b[0m\u001b[0m\n\u001b[0m\u001b[0;32m    345\u001b[0m           )\n\u001b[0;32m    346\u001b[0m           monitoring_infos_by_stage[stage.name] = (\n",
      "\u001b[1;32me:\\projetos\\jobs\\dataengineer\\dotz\\env\\lib\\site-packages\\apache_beam\\runners\\portability\\fn_api_runner\\fn_runner.py\u001b[0m in \u001b[0;36m_run_stage\u001b[1;34m(self, runner_execution_context, bundle_context_manager)\u001b[0m\n\u001b[0;32m    521\u001b[0m               \u001b[0minput_timers\u001b[0m\u001b[1;33m,\u001b[0m\u001b[1;33m\u001b[0m\u001b[1;33m\u001b[0m\u001b[0m\n\u001b[0;32m    522\u001b[0m               \u001b[0mexpected_timer_output\u001b[0m\u001b[1;33m,\u001b[0m\u001b[1;33m\u001b[0m\u001b[1;33m\u001b[0m\u001b[0m\n\u001b[1;32m--> 523\u001b[1;33m               bundle_manager)\n\u001b[0m\u001b[0;32m    524\u001b[0m \u001b[1;33m\u001b[0m\u001b[0m\n\u001b[0;32m    525\u001b[0m       \u001b[0mfinal_result\u001b[0m \u001b[1;33m=\u001b[0m \u001b[0mmerge_results\u001b[0m\u001b[1;33m(\u001b[0m\u001b[0mlast_result\u001b[0m\u001b[1;33m)\u001b[0m\u001b[1;33m\u001b[0m\u001b[1;33m\u001b[0m\u001b[0m\n",
      "\u001b[1;32me:\\projetos\\jobs\\dataengineer\\dotz\\env\\lib\\site-packages\\apache_beam\\runners\\portability\\fn_api_runner\\fn_runner.py\u001b[0m in \u001b[0;36m_run_bundle\u001b[1;34m(self, runner_execution_context, bundle_context_manager, data_input, data_output, input_timers, expected_timer_output, bundle_manager)\u001b[0m\n\u001b[0;32m    559\u001b[0m \u001b[1;33m\u001b[0m\u001b[0m\n\u001b[0;32m    560\u001b[0m     result, splits = bundle_manager.process_bundle(\n\u001b[1;32m--> 561\u001b[1;33m         data_input, data_output, input_timers, expected_timer_output)\n\u001b[0m\u001b[0;32m    562\u001b[0m     \u001b[1;31m# Now we collect all the deferred inputs remaining from bundle execution.\u001b[0m\u001b[1;33m\u001b[0m\u001b[1;33m\u001b[0m\u001b[1;33m\u001b[0m\u001b[0m\n\u001b[0;32m    563\u001b[0m     \u001b[1;31m# Deferred inputs can be:\u001b[0m\u001b[1;33m\u001b[0m\u001b[1;33m\u001b[0m\u001b[1;33m\u001b[0m\u001b[0m\n",
      "\u001b[1;32me:\\projetos\\jobs\\dataengineer\\dotz\\env\\lib\\site-packages\\apache_beam\\runners\\portability\\fn_api_runner\\fn_runner.py\u001b[0m in \u001b[0;36mprocess_bundle\u001b[1;34m(self, inputs, expected_outputs, fired_timers, expected_output_timers, dry_run)\u001b[0m\n\u001b[0;32m    943\u001b[0m     \u001b[1;32mwith\u001b[0m \u001b[0mthread_pool_executor\u001b[0m\u001b[1;33m.\u001b[0m\u001b[0mshared_unbounded_instance\u001b[0m\u001b[1;33m(\u001b[0m\u001b[1;33m)\u001b[0m \u001b[1;32mas\u001b[0m \u001b[0mexecutor\u001b[0m\u001b[1;33m:\u001b[0m\u001b[1;33m\u001b[0m\u001b[1;33m\u001b[0m\u001b[0m\n\u001b[0;32m    944\u001b[0m       for result, split_result in executor.map(execute, zip(part_inputs,  # pylint: disable=zip-builtin-not-iterating\n\u001b[1;32m--> 945\u001b[1;33m                                                             timer_inputs)):\n\u001b[0m\u001b[0;32m    946\u001b[0m         \u001b[0msplit_result_list\u001b[0m \u001b[1;33m+=\u001b[0m \u001b[0msplit_result\u001b[0m\u001b[1;33m\u001b[0m\u001b[1;33m\u001b[0m\u001b[0m\n\u001b[0;32m    947\u001b[0m         \u001b[1;32mif\u001b[0m \u001b[0mmerged_result\u001b[0m \u001b[1;32mis\u001b[0m \u001b[1;32mNone\u001b[0m\u001b[1;33m:\u001b[0m\u001b[1;33m\u001b[0m\u001b[1;33m\u001b[0m\u001b[0m\n",
      "\u001b[1;32mD:\\anaconda3\\lib\\concurrent\\futures\\_base.py\u001b[0m in \u001b[0;36mresult_iterator\u001b[1;34m()\u001b[0m\n\u001b[0;32m    596\u001b[0m                     \u001b[1;31m# Careful not to keep a reference to the popped future\u001b[0m\u001b[1;33m\u001b[0m\u001b[1;33m\u001b[0m\u001b[1;33m\u001b[0m\u001b[0m\n\u001b[0;32m    597\u001b[0m                     \u001b[1;32mif\u001b[0m \u001b[0mtimeout\u001b[0m \u001b[1;32mis\u001b[0m \u001b[1;32mNone\u001b[0m\u001b[1;33m:\u001b[0m\u001b[1;33m\u001b[0m\u001b[1;33m\u001b[0m\u001b[0m\n\u001b[1;32m--> 598\u001b[1;33m                         \u001b[1;32myield\u001b[0m \u001b[0mfs\u001b[0m\u001b[1;33m.\u001b[0m\u001b[0mpop\u001b[0m\u001b[1;33m(\u001b[0m\u001b[1;33m)\u001b[0m\u001b[1;33m.\u001b[0m\u001b[0mresult\u001b[0m\u001b[1;33m(\u001b[0m\u001b[1;33m)\u001b[0m\u001b[1;33m\u001b[0m\u001b[1;33m\u001b[0m\u001b[0m\n\u001b[0m\u001b[0;32m    599\u001b[0m                     \u001b[1;32melse\u001b[0m\u001b[1;33m:\u001b[0m\u001b[1;33m\u001b[0m\u001b[1;33m\u001b[0m\u001b[0m\n\u001b[0;32m    600\u001b[0m                         \u001b[1;32myield\u001b[0m \u001b[0mfs\u001b[0m\u001b[1;33m.\u001b[0m\u001b[0mpop\u001b[0m\u001b[1;33m(\u001b[0m\u001b[1;33m)\u001b[0m\u001b[1;33m.\u001b[0m\u001b[0mresult\u001b[0m\u001b[1;33m(\u001b[0m\u001b[0mend_time\u001b[0m \u001b[1;33m-\u001b[0m \u001b[0mtime\u001b[0m\u001b[1;33m.\u001b[0m\u001b[0mmonotonic\u001b[0m\u001b[1;33m(\u001b[0m\u001b[1;33m)\u001b[0m\u001b[1;33m)\u001b[0m\u001b[1;33m\u001b[0m\u001b[1;33m\u001b[0m\u001b[0m\n",
      "\u001b[1;32mD:\\anaconda3\\lib\\concurrent\\futures\\_base.py\u001b[0m in \u001b[0;36mresult\u001b[1;34m(self, timeout)\u001b[0m\n\u001b[0;32m    433\u001b[0m                 \u001b[1;32mraise\u001b[0m \u001b[0mCancelledError\u001b[0m\u001b[1;33m(\u001b[0m\u001b[1;33m)\u001b[0m\u001b[1;33m\u001b[0m\u001b[1;33m\u001b[0m\u001b[0m\n\u001b[0;32m    434\u001b[0m             \u001b[1;32melif\u001b[0m \u001b[0mself\u001b[0m\u001b[1;33m.\u001b[0m\u001b[0m_state\u001b[0m \u001b[1;33m==\u001b[0m \u001b[0mFINISHED\u001b[0m\u001b[1;33m:\u001b[0m\u001b[1;33m\u001b[0m\u001b[1;33m\u001b[0m\u001b[0m\n\u001b[1;32m--> 435\u001b[1;33m                 \u001b[1;32mreturn\u001b[0m \u001b[0mself\u001b[0m\u001b[1;33m.\u001b[0m\u001b[0m__get_result\u001b[0m\u001b[1;33m(\u001b[0m\u001b[1;33m)\u001b[0m\u001b[1;33m\u001b[0m\u001b[1;33m\u001b[0m\u001b[0m\n\u001b[0m\u001b[0;32m    436\u001b[0m             \u001b[1;32melse\u001b[0m\u001b[1;33m:\u001b[0m\u001b[1;33m\u001b[0m\u001b[1;33m\u001b[0m\u001b[0m\n\u001b[0;32m    437\u001b[0m                 \u001b[1;32mraise\u001b[0m \u001b[0mTimeoutError\u001b[0m\u001b[1;33m(\u001b[0m\u001b[1;33m)\u001b[0m\u001b[1;33m\u001b[0m\u001b[1;33m\u001b[0m\u001b[0m\n",
      "\u001b[1;32mD:\\anaconda3\\lib\\concurrent\\futures\\_base.py\u001b[0m in \u001b[0;36m__get_result\u001b[1;34m(self)\u001b[0m\n\u001b[0;32m    382\u001b[0m     \u001b[1;32mdef\u001b[0m \u001b[0m__get_result\u001b[0m\u001b[1;33m(\u001b[0m\u001b[0mself\u001b[0m\u001b[1;33m)\u001b[0m\u001b[1;33m:\u001b[0m\u001b[1;33m\u001b[0m\u001b[1;33m\u001b[0m\u001b[0m\n\u001b[0;32m    383\u001b[0m         \u001b[1;32mif\u001b[0m \u001b[0mself\u001b[0m\u001b[1;33m.\u001b[0m\u001b[0m_exception\u001b[0m\u001b[1;33m:\u001b[0m\u001b[1;33m\u001b[0m\u001b[1;33m\u001b[0m\u001b[0m\n\u001b[1;32m--> 384\u001b[1;33m             \u001b[1;32mraise\u001b[0m \u001b[0mself\u001b[0m\u001b[1;33m.\u001b[0m\u001b[0m_exception\u001b[0m\u001b[1;33m\u001b[0m\u001b[1;33m\u001b[0m\u001b[0m\n\u001b[0m\u001b[0;32m    385\u001b[0m         \u001b[1;32melse\u001b[0m\u001b[1;33m:\u001b[0m\u001b[1;33m\u001b[0m\u001b[1;33m\u001b[0m\u001b[0m\n\u001b[0;32m    386\u001b[0m             \u001b[1;32mreturn\u001b[0m \u001b[0mself\u001b[0m\u001b[1;33m.\u001b[0m\u001b[0m_result\u001b[0m\u001b[1;33m\u001b[0m\u001b[1;33m\u001b[0m\u001b[0m\n",
      "\u001b[1;32me:\\projetos\\jobs\\dataengineer\\dotz\\env\\lib\\site-packages\\apache_beam\\utils\\thread_pool_executor.py\u001b[0m in \u001b[0;36mrun\u001b[1;34m(self)\u001b[0m\n\u001b[0;32m     42\u001b[0m       \u001b[1;31m# If the future wasn't cancelled, then attempt to execute it.\u001b[0m\u001b[1;33m\u001b[0m\u001b[1;33m\u001b[0m\u001b[1;33m\u001b[0m\u001b[0m\n\u001b[0;32m     43\u001b[0m       \u001b[1;32mtry\u001b[0m\u001b[1;33m:\u001b[0m\u001b[1;33m\u001b[0m\u001b[1;33m\u001b[0m\u001b[0m\n\u001b[1;32m---> 44\u001b[1;33m         \u001b[0mself\u001b[0m\u001b[1;33m.\u001b[0m\u001b[0m_future\u001b[0m\u001b[1;33m.\u001b[0m\u001b[0mset_result\u001b[0m\u001b[1;33m(\u001b[0m\u001b[0mself\u001b[0m\u001b[1;33m.\u001b[0m\u001b[0m_fn\u001b[0m\u001b[1;33m(\u001b[0m\u001b[1;33m*\u001b[0m\u001b[0mself\u001b[0m\u001b[1;33m.\u001b[0m\u001b[0m_fn_args\u001b[0m\u001b[1;33m,\u001b[0m \u001b[1;33m**\u001b[0m\u001b[0mself\u001b[0m\u001b[1;33m.\u001b[0m\u001b[0m_fn_kwargs\u001b[0m\u001b[1;33m)\u001b[0m\u001b[1;33m)\u001b[0m\u001b[1;33m\u001b[0m\u001b[1;33m\u001b[0m\u001b[0m\n\u001b[0m\u001b[0;32m     45\u001b[0m       \u001b[1;32mexcept\u001b[0m \u001b[0mBaseException\u001b[0m \u001b[1;32mas\u001b[0m \u001b[0mexc\u001b[0m\u001b[1;33m:\u001b[0m\u001b[1;33m\u001b[0m\u001b[1;33m\u001b[0m\u001b[0m\n\u001b[0;32m     46\u001b[0m         \u001b[1;31m# Even though Python 2 futures library has #set_exection(),\u001b[0m\u001b[1;33m\u001b[0m\u001b[1;33m\u001b[0m\u001b[1;33m\u001b[0m\u001b[0m\n",
      "\u001b[1;32me:\\projetos\\jobs\\dataengineer\\dotz\\env\\lib\\site-packages\\apache_beam\\runners\\portability\\fn_api_runner\\fn_runner.py\u001b[0m in \u001b[0;36mexecute\u001b[1;34m(part_map_input_timers)\u001b[0m\n\u001b[0;32m    939\u001b[0m           \u001b[0minput_timers\u001b[0m\u001b[1;33m,\u001b[0m\u001b[1;33m\u001b[0m\u001b[1;33m\u001b[0m\u001b[0m\n\u001b[0;32m    940\u001b[0m           \u001b[0mexpected_output_timers\u001b[0m\u001b[1;33m,\u001b[0m\u001b[1;33m\u001b[0m\u001b[1;33m\u001b[0m\u001b[0m\n\u001b[1;32m--> 941\u001b[1;33m           dry_run)\n\u001b[0m\u001b[0;32m    942\u001b[0m \u001b[1;33m\u001b[0m\u001b[0m\n\u001b[0;32m    943\u001b[0m     \u001b[1;32mwith\u001b[0m \u001b[0mthread_pool_executor\u001b[0m\u001b[1;33m.\u001b[0m\u001b[0mshared_unbounded_instance\u001b[0m\u001b[1;33m(\u001b[0m\u001b[1;33m)\u001b[0m \u001b[1;32mas\u001b[0m \u001b[0mexecutor\u001b[0m\u001b[1;33m:\u001b[0m\u001b[1;33m\u001b[0m\u001b[1;33m\u001b[0m\u001b[0m\n",
      "\u001b[1;32me:\\projetos\\jobs\\dataengineer\\dotz\\env\\lib\\site-packages\\apache_beam\\runners\\portability\\fn_api_runner\\fn_runner.py\u001b[0m in \u001b[0;36mprocess_bundle\u001b[1;34m(self, inputs, expected_outputs, fired_timers, expected_output_timers, dry_run)\u001b[0m\n\u001b[0;32m    839\u001b[0m             \u001b[0mprocess_bundle_descriptor\u001b[0m\u001b[1;33m.\u001b[0m\u001b[0mid\u001b[0m\u001b[1;33m,\u001b[0m\u001b[1;33m\u001b[0m\u001b[1;33m\u001b[0m\u001b[0m\n\u001b[0;32m    840\u001b[0m             cache_tokens=[next(self._cache_token_generator)]))\n\u001b[1;32m--> 841\u001b[1;33m     \u001b[0mresult_future\u001b[0m \u001b[1;33m=\u001b[0m \u001b[0mself\u001b[0m\u001b[1;33m.\u001b[0m\u001b[0m_worker_handler\u001b[0m\u001b[1;33m.\u001b[0m\u001b[0mcontrol_conn\u001b[0m\u001b[1;33m.\u001b[0m\u001b[0mpush\u001b[0m\u001b[1;33m(\u001b[0m\u001b[0mprocess_bundle_req\u001b[0m\u001b[1;33m)\u001b[0m\u001b[1;33m\u001b[0m\u001b[1;33m\u001b[0m\u001b[0m\n\u001b[0m\u001b[0;32m    842\u001b[0m \u001b[1;33m\u001b[0m\u001b[0m\n\u001b[0;32m    843\u001b[0m     \u001b[0msplit_results\u001b[0m \u001b[1;33m=\u001b[0m \u001b[1;33m[\u001b[0m\u001b[1;33m]\u001b[0m  \u001b[1;31m# type: List[beam_fn_api_pb2.ProcessBundleSplitResponse]\u001b[0m\u001b[1;33m\u001b[0m\u001b[1;33m\u001b[0m\u001b[0m\n",
      "\u001b[1;32me:\\projetos\\jobs\\dataengineer\\dotz\\env\\lib\\site-packages\\apache_beam\\runners\\portability\\fn_api_runner\\worker_handlers.py\u001b[0m in \u001b[0;36mpush\u001b[1;34m(self, request)\u001b[0m\n\u001b[0;32m    351\u001b[0m       \u001b[0mself\u001b[0m\u001b[1;33m.\u001b[0m\u001b[0m_uid_counter\u001b[0m \u001b[1;33m+=\u001b[0m \u001b[1;36m1\u001b[0m\u001b[1;33m\u001b[0m\u001b[1;33m\u001b[0m\u001b[0m\n\u001b[0;32m    352\u001b[0m       \u001b[0mrequest\u001b[0m\u001b[1;33m.\u001b[0m\u001b[0minstruction_id\u001b[0m \u001b[1;33m=\u001b[0m \u001b[1;34m'control_%s'\u001b[0m \u001b[1;33m%\u001b[0m \u001b[0mself\u001b[0m\u001b[1;33m.\u001b[0m\u001b[0m_uid_counter\u001b[0m\u001b[1;33m\u001b[0m\u001b[1;33m\u001b[0m\u001b[0m\n\u001b[1;32m--> 353\u001b[1;33m     \u001b[0mresponse\u001b[0m \u001b[1;33m=\u001b[0m \u001b[0mself\u001b[0m\u001b[1;33m.\u001b[0m\u001b[0mworker\u001b[0m\u001b[1;33m.\u001b[0m\u001b[0mdo_instruction\u001b[0m\u001b[1;33m(\u001b[0m\u001b[0mrequest\u001b[0m\u001b[1;33m)\u001b[0m\u001b[1;33m\u001b[0m\u001b[1;33m\u001b[0m\u001b[0m\n\u001b[0m\u001b[0;32m    354\u001b[0m     \u001b[1;32mreturn\u001b[0m \u001b[0mControlFuture\u001b[0m\u001b[1;33m(\u001b[0m\u001b[0mrequest\u001b[0m\u001b[1;33m.\u001b[0m\u001b[0minstruction_id\u001b[0m\u001b[1;33m,\u001b[0m \u001b[0mresponse\u001b[0m\u001b[1;33m)\u001b[0m\u001b[1;33m\u001b[0m\u001b[1;33m\u001b[0m\u001b[0m\n\u001b[0;32m    355\u001b[0m \u001b[1;33m\u001b[0m\u001b[0m\n",
      "\u001b[1;32me:\\projetos\\jobs\\dataengineer\\dotz\\env\\lib\\site-packages\\apache_beam\\runners\\worker\\sdk_worker.py\u001b[0m in \u001b[0;36mdo_instruction\u001b[1;34m(self, request)\u001b[0m\n\u001b[0;32m    481\u001b[0m       \u001b[1;31m# E.g. if register is set, this will call self.register(request.register))\u001b[0m\u001b[1;33m\u001b[0m\u001b[1;33m\u001b[0m\u001b[1;33m\u001b[0m\u001b[0m\n\u001b[0;32m    482\u001b[0m       return getattr(self, request_type)(\n\u001b[1;32m--> 483\u001b[1;33m           getattr(request, request_type), request.instruction_id)\n\u001b[0m\u001b[0;32m    484\u001b[0m     \u001b[1;32melse\u001b[0m\u001b[1;33m:\u001b[0m\u001b[1;33m\u001b[0m\u001b[1;33m\u001b[0m\u001b[0m\n\u001b[0;32m    485\u001b[0m       \u001b[1;32mraise\u001b[0m \u001b[0mNotImplementedError\u001b[0m\u001b[1;33m\u001b[0m\u001b[1;33m\u001b[0m\u001b[0m\n",
      "\u001b[1;32me:\\projetos\\jobs\\dataengineer\\dotz\\env\\lib\\site-packages\\apache_beam\\runners\\worker\\sdk_worker.py\u001b[0m in \u001b[0;36mprocess_bundle\u001b[1;34m(self, request, instruction_id)\u001b[0m\n\u001b[0;32m    516\u001b[0m         \u001b[1;32mwith\u001b[0m \u001b[0mself\u001b[0m\u001b[1;33m.\u001b[0m\u001b[0mmaybe_profile\u001b[0m\u001b[1;33m(\u001b[0m\u001b[0minstruction_id\u001b[0m\u001b[1;33m)\u001b[0m\u001b[1;33m:\u001b[0m\u001b[1;33m\u001b[0m\u001b[1;33m\u001b[0m\u001b[0m\n\u001b[0;32m    517\u001b[0m           delayed_applications, requests_finalization = (\n\u001b[1;32m--> 518\u001b[1;33m               bundle_processor.process_bundle(instruction_id))\n\u001b[0m\u001b[0;32m    519\u001b[0m           \u001b[0mmonitoring_infos\u001b[0m \u001b[1;33m=\u001b[0m \u001b[0mbundle_processor\u001b[0m\u001b[1;33m.\u001b[0m\u001b[0mmonitoring_infos\u001b[0m\u001b[1;33m(\u001b[0m\u001b[1;33m)\u001b[0m\u001b[1;33m\u001b[0m\u001b[1;33m\u001b[0m\u001b[0m\n\u001b[0;32m    520\u001b[0m           \u001b[0mmonitoring_infos\u001b[0m\u001b[1;33m.\u001b[0m\u001b[0mextend\u001b[0m\u001b[1;33m(\u001b[0m\u001b[0mself\u001b[0m\u001b[1;33m.\u001b[0m\u001b[0mstate_cache_metrics_fn\u001b[0m\u001b[1;33m(\u001b[0m\u001b[1;33m)\u001b[0m\u001b[1;33m)\u001b[0m\u001b[1;33m\u001b[0m\u001b[1;33m\u001b[0m\u001b[0m\n",
      "\u001b[1;32me:\\projetos\\jobs\\dataengineer\\dotz\\env\\lib\\site-packages\\apache_beam\\runners\\worker\\bundle_processor.py\u001b[0m in \u001b[0;36mprocess_bundle\u001b[1;34m(self, instruction_id)\u001b[0m\n\u001b[0;32m    981\u001b[0m           \u001b[1;32melif\u001b[0m \u001b[0misinstance\u001b[0m\u001b[1;33m(\u001b[0m\u001b[0melement\u001b[0m\u001b[1;33m,\u001b[0m \u001b[0mbeam_fn_api_pb2\u001b[0m\u001b[1;33m.\u001b[0m\u001b[0mElements\u001b[0m\u001b[1;33m.\u001b[0m\u001b[0mData\u001b[0m\u001b[1;33m)\u001b[0m\u001b[1;33m:\u001b[0m\u001b[1;33m\u001b[0m\u001b[1;33m\u001b[0m\u001b[0m\n\u001b[0;32m    982\u001b[0m             input_op_by_transform_id[element.transform_id].process_encoded(\n\u001b[1;32m--> 983\u001b[1;33m                 element.data)\n\u001b[0m\u001b[0;32m    984\u001b[0m \u001b[1;33m\u001b[0m\u001b[0m\n\u001b[0;32m    985\u001b[0m       \u001b[1;31m# Finish all operations.\u001b[0m\u001b[1;33m\u001b[0m\u001b[1;33m\u001b[0m\u001b[1;33m\u001b[0m\u001b[0m\n",
      "\u001b[1;32me:\\projetos\\jobs\\dataengineer\\dotz\\env\\lib\\site-packages\\apache_beam\\runners\\worker\\bundle_processor.py\u001b[0m in \u001b[0;36mprocess_encoded\u001b[1;34m(self, encoded_windowed_values)\u001b[0m\n\u001b[0;32m    217\u001b[0m       decoded_value = self.windowed_coder_impl.decode_from_stream(\n\u001b[0;32m    218\u001b[0m           input_stream, True)\n\u001b[1;32m--> 219\u001b[1;33m       \u001b[0mself\u001b[0m\u001b[1;33m.\u001b[0m\u001b[0moutput\u001b[0m\u001b[1;33m(\u001b[0m\u001b[0mdecoded_value\u001b[0m\u001b[1;33m)\u001b[0m\u001b[1;33m\u001b[0m\u001b[1;33m\u001b[0m\u001b[0m\n\u001b[0m\u001b[0;32m    220\u001b[0m \u001b[1;33m\u001b[0m\u001b[0m\n\u001b[0;32m    221\u001b[0m   \u001b[1;32mdef\u001b[0m \u001b[0mmonitoring_infos\u001b[0m\u001b[1;33m(\u001b[0m\u001b[0mself\u001b[0m\u001b[1;33m,\u001b[0m \u001b[0mtransform_id\u001b[0m\u001b[1;33m,\u001b[0m \u001b[0mtag_to_pcollection_id\u001b[0m\u001b[1;33m)\u001b[0m\u001b[1;33m:\u001b[0m\u001b[1;33m\u001b[0m\u001b[1;33m\u001b[0m\u001b[0m\n",
      "\u001b[1;32me:\\projetos\\jobs\\dataengineer\\dotz\\env\\lib\\site-packages\\apache_beam\\runners\\worker\\operations.cp37-win_amd64.pyd\u001b[0m in \u001b[0;36mapache_beam.runners.worker.operations.Operation.output\u001b[1;34m()\u001b[0m\n",
      "\u001b[1;32me:\\projetos\\jobs\\dataengineer\\dotz\\env\\lib\\site-packages\\apache_beam\\runners\\worker\\operations.cp37-win_amd64.pyd\u001b[0m in \u001b[0;36mapache_beam.runners.worker.operations.Operation.output\u001b[1;34m()\u001b[0m\n",
      "\u001b[1;32me:\\projetos\\jobs\\dataengineer\\dotz\\env\\lib\\site-packages\\apache_beam\\runners\\worker\\operations.cp37-win_amd64.pyd\u001b[0m in \u001b[0;36mapache_beam.runners.worker.operations.SingletonConsumerSet.receive\u001b[1;34m()\u001b[0m\n",
      "\u001b[1;32me:\\projetos\\jobs\\dataengineer\\dotz\\env\\lib\\site-packages\\apache_beam\\runners\\worker\\operations.cp37-win_amd64.pyd\u001b[0m in \u001b[0;36mapache_beam.runners.worker.operations.DoOperation.process\u001b[1;34m()\u001b[0m\n",
      "\u001b[1;32me:\\projetos\\jobs\\dataengineer\\dotz\\env\\lib\\site-packages\\apache_beam\\runners\\worker\\operations.cp37-win_amd64.pyd\u001b[0m in \u001b[0;36mapache_beam.runners.worker.operations.DoOperation.process\u001b[1;34m()\u001b[0m\n",
      "\u001b[1;32me:\\projetos\\jobs\\dataengineer\\dotz\\env\\lib\\site-packages\\apache_beam\\runners\\common.cp37-win_amd64.pyd\u001b[0m in \u001b[0;36mapache_beam.runners.common.DoFnRunner.process\u001b[1;34m()\u001b[0m\n",
      "\u001b[1;32me:\\projetos\\jobs\\dataengineer\\dotz\\env\\lib\\site-packages\\apache_beam\\runners\\common.cp37-win_amd64.pyd\u001b[0m in \u001b[0;36mapache_beam.runners.common.DoFnRunner._reraise_augmented\u001b[1;34m()\u001b[0m\n",
      "\u001b[1;32me:\\projetos\\jobs\\dataengineer\\dotz\\env\\lib\\site-packages\\future\\utils\\__init__.py\u001b[0m in \u001b[0;36mraise_with_traceback\u001b[1;34m(exc, traceback)\u001b[0m\n\u001b[0;32m    444\u001b[0m         \u001b[1;32mif\u001b[0m \u001b[0mtraceback\u001b[0m \u001b[1;33m==\u001b[0m \u001b[0mEllipsis\u001b[0m\u001b[1;33m:\u001b[0m\u001b[1;33m\u001b[0m\u001b[1;33m\u001b[0m\u001b[0m\n\u001b[0;32m    445\u001b[0m             \u001b[0m_\u001b[0m\u001b[1;33m,\u001b[0m \u001b[0m_\u001b[0m\u001b[1;33m,\u001b[0m \u001b[0mtraceback\u001b[0m \u001b[1;33m=\u001b[0m \u001b[0msys\u001b[0m\u001b[1;33m.\u001b[0m\u001b[0mexc_info\u001b[0m\u001b[1;33m(\u001b[0m\u001b[1;33m)\u001b[0m\u001b[1;33m\u001b[0m\u001b[1;33m\u001b[0m\u001b[0m\n\u001b[1;32m--> 446\u001b[1;33m         \u001b[1;32mraise\u001b[0m \u001b[0mexc\u001b[0m\u001b[1;33m.\u001b[0m\u001b[0mwith_traceback\u001b[0m\u001b[1;33m(\u001b[0m\u001b[0mtraceback\u001b[0m\u001b[1;33m)\u001b[0m\u001b[1;33m\u001b[0m\u001b[1;33m\u001b[0m\u001b[0m\n\u001b[0m\u001b[0;32m    447\u001b[0m \u001b[1;33m\u001b[0m\u001b[0m\n\u001b[0;32m    448\u001b[0m \u001b[1;32melse\u001b[0m\u001b[1;33m:\u001b[0m\u001b[1;33m\u001b[0m\u001b[1;33m\u001b[0m\u001b[0m\n",
      "\u001b[1;32me:\\projetos\\jobs\\dataengineer\\dotz\\env\\lib\\site-packages\\apache_beam\\runners\\common.cp37-win_amd64.pyd\u001b[0m in \u001b[0;36mapache_beam.runners.common.DoFnRunner.process\u001b[1;34m()\u001b[0m\n",
      "\u001b[1;32me:\\projetos\\jobs\\dataengineer\\dotz\\env\\lib\\site-packages\\apache_beam\\runners\\common.cp37-win_amd64.pyd\u001b[0m in \u001b[0;36mapache_beam.runners.common.PerWindowInvoker.invoke_process\u001b[1;34m()\u001b[0m\n",
      "\u001b[1;32me:\\projetos\\jobs\\dataengineer\\dotz\\env\\lib\\site-packages\\apache_beam\\runners\\common.cp37-win_amd64.pyd\u001b[0m in \u001b[0;36mapache_beam.runners.common.PerWindowInvoker._invoke_process_per_window\u001b[1;34m()\u001b[0m\n",
      "\u001b[1;32me:\\projetos\\jobs\\dataengineer\\dotz\\env\\lib\\site-packages\\apache_beam\\runners\\common.cp37-win_amd64.pyd\u001b[0m in \u001b[0;36mapache_beam.runners.common._OutputProcessor.process_outputs\u001b[1;34m()\u001b[0m\n",
      "\u001b[1;32me:\\projetos\\jobs\\dataengineer\\dotz\\env\\lib\\site-packages\\apache_beam\\io\\iobase.py\u001b[0m in \u001b[0;36m<genexpr>\u001b[1;34m(.0)\u001b[0m\n\u001b[0;32m   1107\u001b[0m   \u001b[1;32mif\u001b[0m \u001b[0moutputs\u001b[0m\u001b[1;33m:\u001b[0m\u001b[1;33m\u001b[0m\u001b[1;33m\u001b[0m\u001b[0m\n\u001b[0;32m   1108\u001b[0m     return (\n\u001b[1;32m-> 1109\u001b[1;33m         window.TimestampedValue(v, timestamp.MAX_TIMESTAMP) for v in outputs)\n\u001b[0m\u001b[0;32m   1110\u001b[0m \u001b[1;33m\u001b[0m\u001b[0m\n\u001b[0;32m   1111\u001b[0m \u001b[1;33m\u001b[0m\u001b[0m\n",
      "\u001b[1;32me:\\projetos\\jobs\\dataengineer\\dotz\\env\\lib\\site-packages\\apache_beam\\io\\filebasedsink.py\u001b[0m in \u001b[0;36mfinalize_write\u001b[1;34m(self, init_result, writer_results, unused_pre_finalize_results)\u001b[0m\n\u001b[0;32m    345\u001b[0m       \u001b[1;32mif\u001b[0m \u001b[0mall_exceptions\u001b[0m\u001b[1;33m:\u001b[0m\u001b[1;33m\u001b[0m\u001b[1;33m\u001b[0m\u001b[0m\n\u001b[0;32m    346\u001b[0m         raise Exception(\n\u001b[1;32m--> 347\u001b[1;33m             'Encountered exceptions in finalize_write: %s' % all_exceptions)\n\u001b[0m\u001b[0;32m    348\u001b[0m \u001b[1;33m\u001b[0m\u001b[0m\n\u001b[0;32m    349\u001b[0m       \u001b[1;32mfor\u001b[0m \u001b[0mfinal_name\u001b[0m \u001b[1;32min\u001b[0m \u001b[0mdst_files\u001b[0m\u001b[1;33m:\u001b[0m\u001b[1;33m\u001b[0m\u001b[1;33m\u001b[0m\u001b[0m\n",
      "\u001b[1;31mException\u001b[0m: Encountered exceptions in finalize_write: [OSError(FileExistsError(17, 'Cannot create a file when that file already exists'))] [while running '[13]: Write/Write/WriteImpl/FinalizeWrite']"
     ]
    }
   ],
   "source": [
    "common_key = 'Country'\n",
    "pipelines_dictionary = {source_pipeline_name: source_data,\n",
    "                        join_pipeline_name: join_data}\n",
    "\n",
    "test_pipeline = (pipelines_dictionary\n",
    "                 | 'Left join' >> LeftJoin(\n",
    "                                            source_pipeline_name, source_data,\n",
    "                                            join_pipeline_name, join_data, common_key)\n",
    "                 | 'Log Contents' >> beam.ParDo(LogContents())\n",
    "                 | 'Write' >> beam.io.WriteToText('outputs/part')\n",
    "                 \n",
    "                 )\n",
    "\n",
    "result = p.run()\n",
    "result.wait_until_finish()"
   ]
  },
  {
   "cell_type": "code",
   "execution_count": null,
   "metadata": {},
   "outputs": [],
   "source": []
  }
 ],
 "metadata": {
  "kernelspec": {
   "display_name": "Python 3",
   "language": "python",
   "name": "python3"
  },
  "language_info": {
   "codemirror_mode": {
    "name": "ipython",
    "version": 3
   },
   "file_extension": ".py",
   "mimetype": "text/x-python",
   "name": "python",
   "nbconvert_exporter": "python",
   "pygments_lexer": "ipython3",
   "version": "3.7.6"
  }
 },
 "nbformat": 4,
 "nbformat_minor": 4
}
