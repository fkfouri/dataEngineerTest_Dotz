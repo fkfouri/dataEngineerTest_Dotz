{
 "cells": [
  {
   "cell_type": "code",
   "execution_count": 1,
   "metadata": {},
   "outputs": [],
   "source": [
    "import pandas as pd\n",
    "\n",
    "import apache_beam as beam\n",
    "import apache_beam.runners.interactive.interactive_beam as ib\n",
    "from apache_beam.runners.interactive.interactive_runner import InteractiveRunner\n",
    "from apache_beam.options import pipeline_options\n",
    "from apache_beam.options.pipeline_options import GoogleCloudOptions\n",
    "from apache_beam.io.gcp.internal.clients import bigquery\n",
    "import google.auth"
   ]
  },
  {
   "cell_type": "code",
   "execution_count": 2,
   "metadata": {},
   "outputs": [],
   "source": [
    "def show_data(readable_file):\n",
    "    print(readable_file)"
   ]
  },
  {
   "cell_type": "code",
   "execution_count": 8,
   "metadata": {},
   "outputs": [],
   "source": [
    "def read_table_BQ(query):\n",
    "    with beam.Pipeline(RUNNER, options = opts) as p:\n",
    "        (p \n",
    "            | f'Reading bq' >> beam.io.Read(beam.io.BigQuerySource(query=query, use_standard_sql=True))\n",
    "            | 'show data' >> beam.FlatMap(show_data)\n",
    "        )"
   ]
  },
  {
   "cell_type": "code",
   "execution_count": 9,
   "metadata": {},
   "outputs": [],
   "source": [
    "bucket_name = \"fk_dotz_bucket\"\n",
    "\n",
    "PROJECT='teste-dotz-292803' \n",
    "dataset = 'dotz'\n",
    "REGION='us-east1-b'\n",
    "\n",
    "options = {\n",
    "      'project': PROJECT,\n",
    "      'region': REGION,\n",
    "      'teardown_policy': 'TEARDOWN_ALWAYS',\n",
    "      'no_save_main_session': True,\n",
    "  }\n",
    "    \n",
    "RUNNER = 'DirectRunner' #DataflowRunner \n",
    "opts = beam.pipeline.PipelineOptions(flags = [], **options)\n",
    "\n"
   ]
  },
  {
   "cell_type": "code",
   "execution_count": 10,
   "metadata": {},
   "outputs": [
    {
     "data": {
      "application/javascript": [
       "\n",
       "        if (typeof window.interactive_beam_jquery == 'undefined') {\n",
       "          var jqueryScript = document.createElement('script');\n",
       "          jqueryScript.src = 'https://code.jquery.com/jquery-3.4.1.slim.min.js';\n",
       "          jqueryScript.type = 'text/javascript';\n",
       "          jqueryScript.onload = function() {\n",
       "            var datatableScript = document.createElement('script');\n",
       "            datatableScript.src = 'https://cdn.datatables.net/1.10.20/js/jquery.dataTables.min.js';\n",
       "            datatableScript.type = 'text/javascript';\n",
       "            datatableScript.onload = function() {\n",
       "              window.interactive_beam_jquery = jQuery.noConflict(true);\n",
       "              window.interactive_beam_jquery(document).ready(function($){\n",
       "                \n",
       "              });\n",
       "            }\n",
       "            document.head.appendChild(datatableScript);\n",
       "          };\n",
       "          document.head.appendChild(jqueryScript);\n",
       "        } else {\n",
       "          window.interactive_beam_jquery(document).ready(function($){\n",
       "            \n",
       "          });\n",
       "        }"
      ]
     },
     "metadata": {},
     "output_type": "display_data"
    },
    {
     "data": {
      "application/javascript": [
       "\n",
       "        var import_html = () => {\n",
       "          ['https://raw.githubusercontent.com/PAIR-code/facets/1.0.0/facets-dist/facets-jupyter.html'].forEach(href => {\n",
       "            var link = document.createElement('link');\n",
       "            link.rel = 'import'\n",
       "            link.href = href;\n",
       "            document.head.appendChild(link);\n",
       "          });\n",
       "        }\n",
       "        if ('import' in document.createElement('link')) {\n",
       "          import_html();\n",
       "        } else {\n",
       "          var webcomponentScript = document.createElement('script');\n",
       "          webcomponentScript.src = 'https://cdnjs.cloudflare.com/ajax/libs/webcomponentsjs/1.3.3/webcomponents-lite.js';\n",
       "          webcomponentScript.type = 'text/javascript';\n",
       "          webcomponentScript.onload = function(){\n",
       "            import_html();\n",
       "          };\n",
       "          document.head.appendChild(webcomponentScript);\n",
       "        }"
      ]
     },
     "metadata": {},
     "output_type": "display_data"
    },
    {
     "name": "stderr",
     "output_type": "stream",
     "text": [
      "WARNING:apache_beam.io.gcp.bigquery_tools:Dataset teste-dotz-292803:temp_dataset_b08fa3c7567c44ba869e78446db4324f does not exist so we will create it as temporary with location=US\n"
     ]
    },
    {
     "name": "stdout",
     "output_type": "stream",
     "text": [
      "{'tube_assembly_id': 'TA-21199', 'component_id': None, 'quantity': None}\n",
      "{'tube_assembly_id': 'TA-21198', 'component_id': None, 'quantity': None}\n",
      "{'tube_assembly_id': 'TA-21197', 'component_id': 'C-1733', 'quantity': 1.0}\n",
      "{'tube_assembly_id': 'TA-21196', 'component_id': 'C-1364', 'quantity': 1.0}\n",
      "{'tube_assembly_id': 'TA-21195', 'component_id': 'C-1373', 'quantity': 1.0}\n",
      "{'tube_assembly_id': 'TA-21194', 'component_id': 'C-1850', 'quantity': 1.0}\n",
      "{'tube_assembly_id': 'TA-21194', 'component_id': 'C-1420', 'quantity': 1.0}\n",
      "{'tube_assembly_id': 'TA-21194', 'component_id': 'C-1421', 'quantity': 1.0}\n",
      "{'tube_assembly_id': 'TA-21193', 'component_id': 'C-1421', 'quantity': 1.0}\n",
      "{'tube_assembly_id': 'TA-21193', 'component_id': 'C-1850', 'quantity': 1.0}\n"
     ]
    }
   ],
   "source": [
    "query = '''\n",
    "    WITH ref as (\n",
    "      SELECT * FROM `teste-dotz-292803.dotz.bill_of_materials`\n",
    "    ), table_union as (\n",
    "      SELECT tube_assembly_id, component_id_8 component_id, quantity_8 quantity FROM ref WHERE component_id_8 IS NOT NULL\n",
    "      UNION ALL\n",
    "      SELECT tube_assembly_id, component_id_7, quantity_7 FROM ref WHERE component_id_7 IS NOT NULL\n",
    "      UNION ALL\n",
    "      SELECT tube_assembly_id, component_id_6, quantity_6 FROM ref WHERE component_id_6 IS NOT NULL\n",
    "      UNION ALL\n",
    "      SELECT tube_assembly_id, component_id_5, quantity_5 FROM ref WHERE component_id_5 IS NOT NULL\n",
    "      UNION ALL\n",
    "      SELECT tube_assembly_id, component_id_4, quantity_4 FROM ref WHERE component_id_4 IS NOT NULL\n",
    "      UNION ALL\n",
    "      SELECT tube_assembly_id, component_id_3, quantity_3 FROM ref WHERE component_id_3 IS NOT NULL\n",
    "      UNION ALL\n",
    "      SELECT tube_assembly_id, component_id_2, quantity_2 FROM ref WHERE component_id_2 IS NOT NULL\n",
    "      UNION ALL\n",
    "      SELECT tube_assembly_id, component_id_1, quantity_1 FROM ref \n",
    "    )\n",
    "    SELECT DISTINCT * FROM table_union  order by tube_assembly_id desc limit 10\n",
    "'''\n",
    "read_table_BQ(query)"
   ]
  },
  {
   "cell_type": "code",
   "execution_count": 13,
   "metadata": {},
   "outputs": [
    {
     "name": "stderr",
     "output_type": "stream",
     "text": [
      "WARNING:apache_beam.io.gcp.bigquery_tools:Dataset teste-dotz-292803:temp_dataset_0c0e069fe3cc4b40bbbfd0c4e5a2e36b does not exist so we will create it as temporary with location=US\n"
     ]
    },
    {
     "name": "stdout",
     "output_type": "stream",
     "text": [
      "{'tube_assembly_id': 'TA-00064'}\n",
      "{'tube_assembly_id': 'TA-00106'}\n",
      "{'tube_assembly_id': 'TA-00019'}\n",
      "{'tube_assembly_id': 'TA-00044'}\n",
      "{'tube_assembly_id': 'TA-00070'}\n",
      "{'tube_assembly_id': 'TA-00140'}\n",
      "{'tube_assembly_id': 'TA-00137'}\n",
      "{'tube_assembly_id': 'TA-00101'}\n",
      "{'tube_assembly_id': 'TA-00139'}\n",
      "{'tube_assembly_id': 'TA-00074'}\n"
     ]
    }
   ],
   "source": [
    "query = '''\n",
    "     SELECT distinct tube_assembly_id FROM `teste-dotz-292803.dotz.bill_of_materials` limit 10\n",
    "'''\n",
    "read_table_BQ(query)"
   ]
  },
  {
   "cell_type": "code",
   "execution_count": 15,
   "metadata": {},
   "outputs": [
    {
     "name": "stderr",
     "output_type": "stream",
     "text": [
      "WARNING:apache_beam.io.gcp.bigquery_tools:Dataset teste-dotz-292803:temp_dataset_bcf74c6a7f384568ad4198c5c87e25a1 does not exist so we will create it as temporary with location=US\n"
     ]
    },
    {
     "name": "stdout",
     "output_type": "stream",
     "text": [
      "{'quotation_id': 1, 'tube_assembly_id': 'TA-04788', 'supplier': 'S-0026', 'quote_date': '1982-09-22', 'annual_usage': 5, 'min_order_quantity': 0, 'bracket_pricing': 1, 'quantity': 5, 'cost': 6.74649321455796}\n",
      "{'quotation_id': 9, 'tube_assembly_id': 'TA-00393', 'supplier': 'S-0066', 'quote_date': '1995-04-12', 'annual_usage': 0, 'min_order_quantity': 0, 'bracket_pricing': 1, 'quantity': 5, 'cost': 78.26210334792991}\n",
      "{'quotation_id': 5, 'tube_assembly_id': 'TA-04788', 'supplier': 'S-0026', 'quote_date': '1982-09-22', 'annual_usage': 5, 'min_order_quantity': 0, 'bracket_pricing': 1, 'quantity': 150, 'cost': 1.1990674538039099}\n",
      "{'quotation_id': 2, 'tube_assembly_id': 'TA-04788', 'supplier': 'S-0026', 'quote_date': '1982-09-22', 'annual_usage': 5, 'min_order_quantity': 0, 'bracket_pricing': 1, 'quantity': 25, 'cost': 2.1171469427953}\n",
      "{'quotation_id': 8, 'tube_assembly_id': 'TA-00393', 'supplier': 'S-0066', 'quote_date': '1995-04-12', 'annual_usage': 0, 'min_order_quantity': 0, 'bracket_pricing': 1, 'quantity': 2, 'cost': 109.64372951709}\n",
      "{'quotation_id': 10, 'tube_assembly_id': 'TA-00393', 'supplier': 'S-0066', 'quote_date': '1995-04-12', 'annual_usage': 0, 'min_order_quantity': 0, 'bracket_pricing': 1, 'quantity': 10, 'cost': 68.1910495596}\n",
      "{'quotation_id': 4, 'tube_assembly_id': 'TA-04788', 'supplier': 'S-0026', 'quote_date': '1982-09-22', 'annual_usage': 5, 'min_order_quantity': 0, 'bracket_pricing': 1, 'quantity': 100, 'cost': 1.27418304835775}\n",
      "{'quotation_id': 6, 'tube_assembly_id': 'TA-04788', 'supplier': 'S-0026', 'quote_date': '1982-09-22', 'annual_usage': 5, 'min_order_quantity': 0, 'bracket_pricing': 1, 'quantity': 600, 'cost': 1.05440038281133}\n",
      "{'quotation_id': 3, 'tube_assembly_id': 'TA-04788', 'supplier': 'S-0026', 'quote_date': '1982-09-22', 'annual_usage': 5, 'min_order_quantity': 0, 'bracket_pricing': 1, 'quantity': 50, 'cost': 1.56629924940047}\n",
      "{'quotation_id': 7, 'tube_assembly_id': 'TA-00393', 'supplier': 'S-0066', 'quote_date': '1995-04-12', 'annual_usage': 0, 'min_order_quantity': 0, 'bracket_pricing': 1, 'quantity': 1, 'cost': 161.94643979902398}\n"
     ]
    }
   ],
   "source": [
    "query = '''\n",
    "    SELECT ROW_NUMBER() OVER() quotation_id, tube_assembly_id, supplier, PARSE_DATE('%Y-%m-%d', quote_date) quote_date, \n",
    "        annual_usage, min_order_quantity, \n",
    "        case when bracket_pricing = 'Yes' then\n",
    "          1\n",
    "          else\n",
    "          0\n",
    "        end bracket_pricing,\n",
    "        quantity, cost \n",
    "    FROM `teste-dotz-292803.dotz.price_quote`  limit 10\n",
    "'''\n",
    "read_table_BQ(query)"
   ]
  },
  {
   "cell_type": "code",
   "execution_count": 16,
   "metadata": {},
   "outputs": [
    {
     "name": "stderr",
     "output_type": "stream",
     "text": [
      "WARNING:apache_beam.io.gcp.bigquery_tools:Dataset teste-dotz-292803:temp_dataset_3a548437aa11442bb8f66f00f1e46181 does not exist so we will create it as temporary with location=US\n"
     ]
    },
    {
     "name": "stdout",
     "output_type": "stream",
     "text": [
      "{'component_id': 'C-0513', 'component_type_id': 'CP-019', 'type': None, 'connection_type_id': '9999', 'outside_shape': None, 'base_type': None, 'height_over_tube': 35.0, 'bolt_pattern_long': 77.77, 'groove': 0, 'base_diameter': None, 'shoulder_diameter': None, 'unique_feature': 0, 'orientation': 1, 'weight': 2.14}\n",
      "{'component_id': 'C-0161', 'component_type_id': 'CP-020', 'type': None, 'connection_type_id': '9999', 'outside_shape': None, 'base_type': None, 'height_over_tube': 19.2, 'bolt_pattern_long': 76.2, 'groove': 0, 'base_diameter': None, 'shoulder_diameter': None, 'unique_feature': 0, 'orientation': 1, 'weight': 0.559}\n",
      "{'component_id': 'C-0899', 'component_type_id': 'CP-020', 'type': None, 'connection_type_id': '9999', 'outside_shape': None, 'base_type': None, 'height_over_tube': 8.3, 'bolt_pattern_long': 76.2, 'groove': 0, 'base_diameter': None, 'shoulder_diameter': None, 'unique_feature': 0, 'orientation': 1, 'weight': 0.426}\n",
      "{'component_id': 'C-0780', 'component_type_id': 'CP-020', 'type': None, 'connection_type_id': '9999', 'outside_shape': None, 'base_type': None, 'height_over_tube': 21.5, 'bolt_pattern_long': 76.2, 'groove': 0, 'base_diameter': None, 'shoulder_diameter': None, 'unique_feature': 0, 'orientation': 1, 'weight': 0.577}\n",
      "{'component_id': 'C-0770', 'component_type_id': 'CP-020', 'type': None, 'connection_type_id': '9999', 'outside_shape': None, 'base_type': None, 'height_over_tube': 21.5, 'bolt_pattern_long': 94.0, 'groove': 0, 'base_diameter': None, 'shoulder_diameter': None, 'unique_feature': 0, 'orientation': 1, 'weight': 0.987}\n",
      "{'component_id': 'C-1308', 'component_type_id': 'CP-020', 'type': None, 'connection_type_id': '9999', 'outside_shape': None, 'base_type': None, 'height_over_tube': 12.5, 'bolt_pattern_long': 86.0, 'groove': 0, 'base_diameter': None, 'shoulder_diameter': None, 'unique_feature': 0, 'orientation': 1, 'weight': 0.454}\n",
      "{'component_id': 'C-0796', 'component_type_id': 'CP-020', 'type': None, 'connection_type_id': '9999', 'outside_shape': None, 'base_type': None, 'height_over_tube': 21.2, 'bolt_pattern_long': 94.0, 'groove': 0, 'base_diameter': None, 'shoulder_diameter': None, 'unique_feature': 0, 'orientation': 1, 'weight': 0.987}\n",
      "{'component_id': 'C-0243', 'component_type_id': 'CP-019', 'type': None, 'connection_type_id': 'B-012', 'outside_shape': None, 'base_type': None, 'height_over_tube': 36.0, 'bolt_pattern_long': 88.9, 'groove': 0, 'base_diameter': None, 'shoulder_diameter': None, 'unique_feature': 0, 'orientation': 1, 'weight': 4.034}\n",
      "{'component_id': 'C-0083', 'component_type_id': 'CP-019', 'type': None, 'connection_type_id': 'B-012', 'outside_shape': None, 'base_type': None, 'height_over_tube': 36.5, 'bolt_pattern_long': 77.8, 'groove': 0, 'base_diameter': None, 'shoulder_diameter': None, 'unique_feature': 0, 'orientation': 1, 'weight': 2.093}\n",
      "{'component_id': 'C-0084', 'component_type_id': 'CP-019', 'type': None, 'connection_type_id': 'B-012', 'outside_shape': None, 'base_type': None, 'height_over_tube': 36.5, 'bolt_pattern_long': 88.9, 'groove': 0, 'base_diameter': None, 'shoulder_diameter': None, 'unique_feature': 0, 'orientation': 1, 'weight': 2.601}\n"
     ]
    }
   ],
   "source": [
    "query = '''\n",
    "    SELECT component_id, component_type_id, type, connection_type_id, outside_shape, base_type, height_over_tube, bolt_pattern_long,\n",
    "            case when groove = 'Yes' then\n",
    "              1\n",
    "              else\n",
    "              0\n",
    "            end groove, \n",
    "            base_diameter, shoulder_diameter,  \n",
    "            case when unique_feature = 'Yes' then\n",
    "              1\n",
    "              else\n",
    "              0\n",
    "            end unique_feature,  \n",
    "            case when orientation = 'Yes' then\n",
    "              1\n",
    "              else\n",
    "              0\n",
    "            end orientation,\n",
    "            ROUND(weight,3) weight\n",
    "    FROM `teste-dotz-292803.dotz.comp_boss`  limit 10\n",
    "'''\n",
    "read_table_BQ(query)"
   ]
  },
  {
   "cell_type": "code",
   "execution_count": null,
   "metadata": {},
   "outputs": [],
   "source": []
  }
 ],
 "metadata": {
  "kernelspec": {
   "display_name": "Python 3",
   "language": "python",
   "name": "python3"
  },
  "language_info": {
   "codemirror_mode": {
    "name": "ipython",
    "version": 3
   },
   "file_extension": ".py",
   "mimetype": "text/x-python",
   "name": "python",
   "nbconvert_exporter": "python",
   "pygments_lexer": "ipython3",
   "version": "3.7.6"
  }
 },
 "nbformat": 4,
 "nbformat_minor": 4
}
